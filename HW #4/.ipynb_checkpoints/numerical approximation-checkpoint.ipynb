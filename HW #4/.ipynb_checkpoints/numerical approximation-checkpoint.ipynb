{
 "cells": [
  {
   "cell_type": "code",
   "execution_count": 40,
   "id": "18320af6",
   "metadata": {},
   "outputs": [],
   "source": [
    "import matplotlib as plt\n",
    "import seaborn as sns\n",
    "from typing import Callable\n",
    "import pandas as pd"
   ]
  },
  {
   "cell_type": "code",
   "execution_count": 54,
   "id": "2ae8856d",
   "metadata": {},
   "outputs": [],
   "source": [
    "params = {\n",
    "    \"steps\": 10000\n",
    "}"
   ]
  },
  {
   "cell_type": "code",
   "execution_count": 69,
   "id": "f0de4e08",
   "metadata": {},
   "outputs": [],
   "source": [
    "def euler(f: Callable, condition: tuple, final_x: float, steps=None, h=None):\n",
    "    if not steps is None:\n",
    "        h = (final_x - condition[0]) / steps\n",
    "    elif h is None:\n",
    "        h = (final_x - condition[0]) / params[\"steps\"]\n",
    "    cur_x = condition[0]\n",
    "    cur_y = condition[1]\n",
    "    while cur_x < final_x-h:\n",
    "        cur_y = cur_y + h*f(cur_x,cur_y)\n",
    "        cur_x +=h\n",
    "    return cur_y\n",
    "\n",
    "def euler_retun_all(f: Callable, condition: tuple, final_x: float, steps=None, h=None):\n",
    "    if not steps is None:\n",
    "        h = (final_x - condition[0]) / steps\n",
    "    elif h is None:\n",
    "        h = (final_x - condition[0]) / params[\"steps\"]\n",
    "    out_x, out_y = [],[]\n",
    "    out_x.append(condition[0])\n",
    "    out_y.append(condition[1])\n",
    "    while out_x[-1] < final_x:\n",
    "        out_y.append(out_y[-1] + h*f(out_x[-1],out_y[-1]))\n",
    "        out_x.append(out_x[-1]+h)\n",
    "    return pd.DataFrame({\"x\":out_x,\"y\":out_y})"
   ]
  },
  {
   "cell_type": "code",
   "execution_count": 103,
   "id": "d40311f4",
   "metadata": {},
   "outputs": [
    {
     "name": "stdout",
     "output_type": "stream",
     "text": [
      "     x     y\n",
      "0  1.0  5.00\n",
      "1  1.1  3.80\n",
      "2  1.2  2.98\n",
      "     x     y\n",
      "0  0.0  0.00\n",
      "1  0.1  0.00\n",
      "2  0.2  0.01\n",
      "      x         y\n",
      "0  1.00  5.000000\n",
      "1  1.05  4.400000\n",
      "2  1.10  3.895000\n",
      "3  1.15  3.470750\n",
      "4  1.20  3.115138\n",
      "      x         y\n",
      "0  0.00  0.000000\n",
      "1  0.05  0.000000\n",
      "2  0.10  0.002500\n",
      "3  0.15  0.007500\n",
      "4  0.20  0.015003\n"
     ]
    }
   ],
   "source": [
    "problem_1 = euler_retun_all(lambda x,y: 2*x - 3*y + 1, (1,5), 1.2, h=0.1)\n",
    "print(problem_1)\n",
    "problem_2 = euler_retun_all(lambda x,y: x + y**2, (0,0), 0.2, h=0.1)\n",
    "print(problem_2)\n",
    "problem_3 = euler_retun_all(lambda x,y: 2*x - 3*y + 1, (1,5), 1.2, h=0.05)\n",
    "print(problem_3)\n",
    "problem_4 = euler_retun_all(lambda x,y: x + y**2, (0,0), 0.2, h=0.05)\n",
    "print(problem_4)"
   ]
  },
  {
   "cell_type": "code",
   "execution_count": 111,
   "id": "d3ffcd3f",
   "metadata": {},
   "outputs": [
    {
     "data": {
      "text/plain": [
       "4.466049527037922"
      ]
     },
     "execution_count": 111,
     "metadata": {},
     "output_type": "execute_result"
    }
   ],
   "source": []
  },
  {
   "cell_type": "code",
   "execution_count": null,
   "id": "ff9980cf",
   "metadata": {},
   "outputs": [],
   "source": []
  }
 ],
 "metadata": {
  "kernelspec": {
   "display_name": "Python 3",
   "language": "python",
   "name": "python3"
  },
  "language_info": {
   "codemirror_mode": {
    "name": "ipython",
    "version": 3
   },
   "file_extension": ".py",
   "mimetype": "text/x-python",
   "name": "python",
   "nbconvert_exporter": "python",
   "pygments_lexer": "ipython3",
   "version": "3.8.3"
  }
 },
 "nbformat": 4,
 "nbformat_minor": 5
}
