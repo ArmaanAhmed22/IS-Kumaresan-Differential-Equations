{
 "cells": [
  {
   "cell_type": "code",
   "execution_count": 92,
   "id": "18320af6",
   "metadata": {},
   "outputs": [],
   "source": [
    "import matplotlib.pyplot as plt\n",
    "import seaborn as sns\n",
    "from typing import Callable\n",
    "import pandas as pd\n",
    "import math\n",
    "import numpy as np\n",
    "from tqdm import tqdm"
   ]
  },
  {
   "cell_type": "code",
   "execution_count": 3,
   "id": "2ae8856d",
   "metadata": {},
   "outputs": [],
   "source": [
    "params = {\n",
    "    \"steps\": 10000\n",
    "}"
   ]
  },
  {
   "cell_type": "code",
   "execution_count": 4,
   "id": "f0de4e08",
   "metadata": {},
   "outputs": [],
   "source": [
    "def euler(f: Callable, condition: tuple, final_x: float, steps=None, h=None):\n",
    "    if not steps is None:\n",
    "        h = (final_x - condition[0]) / steps\n",
    "    elif h is None:\n",
    "        h = (final_x - condition[0]) / params[\"steps\"]\n",
    "    cur_x = condition[0]\n",
    "    cur_y = condition[1]\n",
    "    while cur_x < final_x-h:\n",
    "        cur_y = cur_y + h*f(cur_x,cur_y)\n",
    "        cur_x +=h\n",
    "    return cur_y\n",
    "\n",
    "def euler_retun_all(f: Callable, condition: tuple, final_x: float, steps=None, h=None):\n",
    "    if not steps is None:\n",
    "        h = (final_x - condition[0]) / steps\n",
    "    elif h is None:\n",
    "        h = (final_x - condition[0]) / params[\"steps\"]\n",
    "    out_x, out_y = [],[]\n",
    "    out_x.append(condition[0])\n",
    "    out_y.append(condition[1])\n",
    "    while out_x[-1] < final_x:\n",
    "        out_y.append(out_y[-1] + h*f(out_x[-1],out_y[-1]))\n",
    "        out_x.append(out_x[-1]+h)\n",
    "    return pd.DataFrame({\"x\":out_x,\"y\":out_y})\n",
    "\n",
    "def runge_kutta_4(f: Callable, condition: tuple, final_x: float, steps=None, h=None):\n",
    "    if not steps is None:\n",
    "        h = (final_x - condition[0]) / steps\n",
    "    elif h is None:\n",
    "        h = (final_x - condition[0]) / params[\"steps\"]\n",
    "    cur_x = condition[0]\n",
    "    cur_y = condition[1]\n",
    "    sixth = 1/6\n",
    "    while cur_x < final_x-h:\n",
    "        k1 = f(cur_x, cur_y)\n",
    "        k2 = f(cur_x + h*0.5, cur_y + h*0.5*k1)\n",
    "        k3 = f(cur_x + h*0.5, cur_y + h*0.5*k2)\n",
    "        k4 = f(cur_x + h, cur_y + h*k3)\n",
    "        cur_y = cur_y + h*sixth*( k1 + 2*k2 + 2*k3 + k4 )\n",
    "        cur_x +=h\n",
    "    return cur_y\n",
    "\n",
    "def runge_kutta_4_all(f: Callable, condition: tuple, final_x: float, steps=None, h=None):\n",
    "    if not steps is None:\n",
    "        h = (final_x - condition[0]) / steps\n",
    "    elif h is None:\n",
    "        h = (final_x - condition[0]) / params[\"steps\"]\n",
    "    out_x, out_y = [],[]\n",
    "    out_x.append(condition[0])\n",
    "    out_y.append(condition[1])\n",
    "    sixth = 1/6\n",
    "    while out_x[-1] < final_x:\n",
    "        k1 = f(out_x[-1], out_y[-1])\n",
    "        k2 = f(out_x[-1] + h*0.5, out_y[-1] + h*0.5*k1)\n",
    "        k3 = f(out_x[-1] + h*0.5, out_y[-1] + h*0.5*k2)\n",
    "        k4 = f(out_x[-1] + h, out_y[-1] + h*k3)\n",
    "        out_y.append(out_y[-1] + h*sixth*( k1 + 2*k2 + 2*k3 + k4 ))\n",
    "        out_x.append(out_x[-1]+h)\n",
    "    return pd.DataFrame({\"x\":out_x,\"y\":out_y})"
   ]
  },
  {
   "cell_type": "code",
   "execution_count": 6,
   "id": "d40311f4",
   "metadata": {},
   "outputs": [
    {
     "name": "stdout",
     "output_type": "stream",
     "text": [
      "     x     y\n",
      "0  1.0  5.00\n",
      "1  1.1  3.80\n",
      "2  1.2  2.98\n",
      "     x     y\n",
      "0  0.0  0.00\n",
      "1  0.1  0.00\n",
      "2  0.2  0.01\n",
      "      x         y\n",
      "0  1.00  5.000000\n",
      "1  1.05  4.400000\n",
      "2  1.10  3.895000\n",
      "3  1.15  3.470750\n",
      "4  1.20  3.115138\n",
      "      x         y\n",
      "0  0.00  0.000000\n",
      "1  0.05  0.000000\n",
      "2  0.10  0.002500\n",
      "3  0.15  0.007500\n",
      "4  0.20  0.015003\n"
     ]
    }
   ],
   "source": [
    "problem_1 = euler_retun_all(lambda x,y: 2*x - 3*y + 1, (1,5), 1.2, h=0.1)\n",
    "print(problem_1)\n",
    "problem_2 = euler_retun_all(lambda x,y: x + y**2, (0,0), 0.2, h=0.1)\n",
    "print(problem_2)\n",
    "problem_3 = euler_retun_all(lambda x,y: 2*x - 3*y + 1, (1,5), 1.2, h=0.05)\n",
    "print(problem_3)\n",
    "problem_4 = euler_retun_all(lambda x,y: x + y**2, (0,0), 0.2, h=0.05)\n",
    "print(problem_4)"
   ]
  },
  {
   "cell_type": "code",
   "execution_count": 72,
   "id": "d3ffcd3f",
   "metadata": {},
   "outputs": [],
   "source": [
    "y = lambda x: math.exp(x)\n",
    "y_prime = lambda x,y: y\n",
    "condition = (0,1)\n",
    "end_x = 5\n",
    "steps = 100\n",
    "df = pd.DataFrame(columns=[\"x\",\"truth\",\"runge_kutta\",\"euler\"])\n",
    "x_values = np.linspace(condition[0],end_x,steps)\n",
    "df[\"x\"] = x_values\n",
    "df[\"truth\"] = np.apply_along_axis(lambda arr: [y(x) for x in arr],0,x_values)\n",
    "df[\"runge_kutta\"] = runge_kutta_4_all(y_prime, condition, end_x, steps = steps)[\"y\"]\n",
    "df[\"euler\"] = euler_retun_all(y_prime, condition, end_x, steps = steps)[\"y\"]"
   ]
  },
  {
   "cell_type": "code",
   "execution_count": 73,
   "id": "ff9980cf",
   "metadata": {},
   "outputs": [
    {
     "data": {
      "text/html": [
       "<div>\n",
       "<style scoped>\n",
       "    .dataframe tbody tr th:only-of-type {\n",
       "        vertical-align: middle;\n",
       "    }\n",
       "\n",
       "    .dataframe tbody tr th {\n",
       "        vertical-align: top;\n",
       "    }\n",
       "\n",
       "    .dataframe thead th {\n",
       "        text-align: right;\n",
       "    }\n",
       "</style>\n",
       "<table border=\"1\" class=\"dataframe\">\n",
       "  <thead>\n",
       "    <tr style=\"text-align: right;\">\n",
       "      <th></th>\n",
       "      <th>type</th>\n",
       "      <th>y</th>\n",
       "      <th>x</th>\n",
       "    </tr>\n",
       "  </thead>\n",
       "  <tbody>\n",
       "    <tr>\n",
       "      <th>0</th>\n",
       "      <td>truth</td>\n",
       "      <td>1.000000</td>\n",
       "      <td>0.000000</td>\n",
       "    </tr>\n",
       "    <tr>\n",
       "      <th>1</th>\n",
       "      <td>runge_kutta</td>\n",
       "      <td>1.000000</td>\n",
       "      <td>0.000000</td>\n",
       "    </tr>\n",
       "    <tr>\n",
       "      <th>2</th>\n",
       "      <td>euler</td>\n",
       "      <td>1.000000</td>\n",
       "      <td>0.000000</td>\n",
       "    </tr>\n",
       "    <tr>\n",
       "      <th>3</th>\n",
       "      <td>truth</td>\n",
       "      <td>1.051802</td>\n",
       "      <td>0.050505</td>\n",
       "    </tr>\n",
       "    <tr>\n",
       "      <th>4</th>\n",
       "      <td>runge_kutta</td>\n",
       "      <td>1.051271</td>\n",
       "      <td>0.050505</td>\n",
       "    </tr>\n",
       "  </tbody>\n",
       "</table>\n",
       "</div>"
      ],
      "text/plain": [
       "          type         y         x\n",
       "0        truth  1.000000  0.000000\n",
       "1  runge_kutta  1.000000  0.000000\n",
       "2        euler  1.000000  0.000000\n",
       "3        truth  1.051802  0.050505\n",
       "4  runge_kutta  1.051271  0.050505"
      ]
     },
     "execution_count": 73,
     "metadata": {},
     "output_type": "execute_result"
    }
   ],
   "source": [
    "new_df = df.drop(\"x\",axis=1).stack().reset_index().drop(\"level_0\",axis=1)\n",
    "new_df.rename(columns={\"level_1\":\"type\",0:\"y\"},inplace=True)\n",
    "new_df[\"x\"] = np.repeat(df[\"x\"].to_numpy(),3)\n",
    "new_df.head()"
   ]
  },
  {
   "cell_type": "code",
   "execution_count": 108,
   "id": "a3453c57",
   "metadata": {},
   "outputs": [
    {
     "name": "stderr",
     "output_type": "stream",
     "text": [
      "100%|██████████| 5/5 [00:00<00:00, 150.67it/s]\n"
     ]
    },
    {
     "data": {
      "text/html": [
       "<div>\n",
       "<style scoped>\n",
       "    .dataframe tbody tr th:only-of-type {\n",
       "        vertical-align: middle;\n",
       "    }\n",
       "\n",
       "    .dataframe tbody tr th {\n",
       "        vertical-align: top;\n",
       "    }\n",
       "\n",
       "    .dataframe thead th {\n",
       "        text-align: right;\n",
       "    }\n",
       "</style>\n",
       "<table border=\"1\" class=\"dataframe\">\n",
       "  <thead>\n",
       "    <tr style=\"text-align: right;\">\n",
       "      <th></th>\n",
       "      <th>type</th>\n",
       "      <th>error</th>\n",
       "      <th>steps</th>\n",
       "    </tr>\n",
       "  </thead>\n",
       "  <tbody>\n",
       "    <tr>\n",
       "      <th>0</th>\n",
       "      <td>runge_error</td>\n",
       "      <td>9.932621e-01</td>\n",
       "      <td>1.0</td>\n",
       "    </tr>\n",
       "    <tr>\n",
       "      <th>1</th>\n",
       "      <td>euler_error</td>\n",
       "      <td>9.932621e-01</td>\n",
       "      <td>1.0</td>\n",
       "    </tr>\n",
       "    <tr>\n",
       "      <th>2</th>\n",
       "      <td>runge_error</td>\n",
       "      <td>3.944082e-01</td>\n",
       "      <td>10.0</td>\n",
       "    </tr>\n",
       "    <tr>\n",
       "      <th>3</th>\n",
       "      <td>euler_error</td>\n",
       "      <td>7.409707e-01</td>\n",
       "      <td>10.0</td>\n",
       "    </tr>\n",
       "    <tr>\n",
       "      <th>4</th>\n",
       "      <td>runge_error</td>\n",
       "      <td>2.497951e-07</td>\n",
       "      <td>100.0</td>\n",
       "    </tr>\n",
       "  </tbody>\n",
       "</table>\n",
       "</div>"
      ],
      "text/plain": [
       "          type         error  steps\n",
       "0  runge_error  9.932621e-01    1.0\n",
       "1  euler_error  9.932621e-01    1.0\n",
       "2  runge_error  3.944082e-01   10.0\n",
       "3  euler_error  7.409707e-01   10.0\n",
       "4  runge_error  2.497951e-07  100.0"
      ]
     },
     "execution_count": 108,
     "metadata": {},
     "output_type": "execute_result"
    }
   ],
   "source": [
    "def get_absolute_errors_vary_steps(y,y_prime,condition,end_x,steps_arr):\n",
    "    y_truth = y(end_x)\n",
    "    pre_df_raw = {\"runge\":[],\"euler\":[],\"truth\":[y_truth]*len(steps_arr),\"steps\":steps_arr}\n",
    "    for steps in tqdm(steps_arr):\n",
    "        pre_df_raw[\"runge\"].append(runge_kutta_4(y_prime, condition, end_x, steps = steps))\n",
    "        pre_df_raw[\"euler\"].append(euler(y_prime, condition, end_x, steps = steps))\n",
    "    df_raw = pd.DataFrame(pre_df_raw)\n",
    "    df_out = pd.DataFrame(columns = [\"runge_error\",\"euler_error\",\"steps\"])\n",
    "    df_out[\"steps\"] = df_raw[\"steps\"]\n",
    "    df_out[\"runge_error\"] = (df_raw[\"truth\"] - df_raw[\"runge\"]) / df_raw[\"truth\"]\n",
    "    df_out[\"euler_error\"] = (df_raw[\"truth\"] - df_raw[\"euler\"]) / df_raw[\"truth\"]\n",
    "    return df_out\n",
    "    \n",
    "\n",
    "df_errors = get_absolute_errors_vary_steps(y,y_prime,condition,end_x,np.geomspace(1,10000,num=5))\n",
    "df_errors.head()\n",
    "df_use_error = df_errors.drop(\"steps\",axis=1).stack().reset_index().drop(\"level_0\",axis=1).rename(columns={\"level_1\":\"type\",0:\"error\"})\n",
    "df_use_error[\"steps\"] = np.repeat(df_errors[\"steps\"].to_numpy(),2)\n",
    "df_use_error.head()"
   ]
  },
  {
   "cell_type": "code",
   "execution_count": 120,
   "id": "5461ab5a",
   "metadata": {},
   "outputs": [
    {
     "data": {
      "image/png": "[encoded data removed]",
      "text/plain": [
       "<Figure size 864x360 with 2 Axes>"
      ]
     },
     "metadata": {
      "needs_background": "light"
     },
     "output_type": "display_data"
    }
   ],
   "source": [
    "palette = {\n",
    "    \"truth\": \"black\",\n",
    "    \"runge_kutta\": \"orange\",\n",
    "    \"runge_error\": \"orange\",\n",
    "    \"euler\": \"green\",\n",
    "    \"euler_error\": \"green\"\n",
    "}\n",
    "fig,axes = plt.subplots(ncols=2,figsize=(12,5))\n",
    "sns.lineplot(x=\"x\",y=\"y\",hue=\"type\",data=new_df,ax=axes[0],palette=palette)\n",
    "sns.lineplot(x=\"steps\",y=\"error\",hue=\"type\",data=df_use_error,ax=axes[1],palette=palette)\n",
    "axes[0].set_title(f\"Resulting function graphs (# steps={steps})\")\n",
    "axes[0].set_ylabel(\"$y=e^x$\")\n",
    "axes[1].set(xscale=\"log\",yscale=\"log\")\n",
    "axes[1].minorticks_off()\n",
    "axes[1].set_title(\"\")\n",
    "plt.savefig(\"numerical_comparison.png\",dpi=600,bbox_inches=\"tight\")"
   ]
  },
  {
   "cell_type": "code",
   "execution_count": null,
   "id": "77d18343",
   "metadata": {},
   "outputs": [],
   "source": []
  }
 ],
 "metadata": {
  "kernelspec": {
   "display_name": "Python 3",
   "language": "python",
   "name": "python3"
  },
  "language_info": {
   "codemirror_mode": {
    "name": "ipython",
    "version": 3
   },
   "file_extension": ".py",
   "mimetype": "text/x-python",
   "name": "python",
   "nbconvert_exporter": "python",
   "pygments_lexer": "ipython3",
   "version": "3.8.3"
  }
 },
 "nbformat": 4,
 "nbformat_minor": 5
}
